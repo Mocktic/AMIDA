{
 "cells": [
  {
   "cell_type": "code",
   "execution_count": 4,
   "metadata": {},
   "outputs": [
    {
     "name": "stdout",
     "output_type": "stream",
     "text": [
      "Requirement already satisfied: opencv-python in d:\\projects\\sign-to-speech\\tfodcourse\\tfod\\lib\\site-packages (4.5.5.64)\n",
      "Requirement already satisfied: numpy>=1.14.5 in d:\\projects\\sign-to-speech\\tfodcourse\\tfod\\lib\\site-packages (from opencv-python) (1.22.3)\n"
     ]
    }
   ],
   "source": [
    "!pip install opencv-python"
   ]
  },
  {
   "cell_type": "code",
   "execution_count": 5,
   "metadata": {},
   "outputs": [],
   "source": [
    "# Import opencv\n",
    "import cv2 \n",
    "\n",
    "# Import uuid\n",
    "import uuid\n",
    "\n",
    "# Import Operating System\n",
    "import os\n",
    "\n",
    "# Import time\n",
    "import time"
   ]
  },
  {
   "cell_type": "code",
   "execution_count": 4,
   "metadata": {},
   "outputs": [],
   "source": [
    "labels = ['yes', 'no', 'thankyou', 'present']\n",
    "number_imgs = 15"
   ]
  },
  {
   "cell_type": "code",
   "execution_count": 5,
   "metadata": {},
   "outputs": [
    {
     "data": {
      "text/plain": [
       "15"
      ]
     },
     "execution_count": 5,
     "metadata": {},
     "output_type": "execute_result"
    }
   ],
   "source": [
    "number_imgs"
   ]
  },
  {
   "cell_type": "code",
   "execution_count": 6,
   "metadata": {},
   "outputs": [],
   "source": [
    "IMAGES_PATH = os.path.join('Tensorflow', 'workspace', 'images', 'collectedimages')"
   ]
  },
  {
   "cell_type": "code",
   "execution_count": 7,
   "metadata": {},
   "outputs": [
    {
     "data": {
      "text/plain": [
       "'Tensorflow\\\\workspace\\\\images\\\\collectedimages'"
      ]
     },
     "execution_count": 7,
     "metadata": {},
     "output_type": "execute_result"
    }
   ],
   "source": [
    "IMAGES_PATH"
   ]
  },
  {
   "cell_type": "code",
   "execution_count": 6,
   "metadata": {},
   "outputs": [
    {
     "data": {
      "text/plain": [
       "'nt'"
      ]
     },
     "execution_count": 6,
     "metadata": {},
     "output_type": "execute_result"
    }
   ],
   "source": [
    "os.name"
   ]
  },
  {
   "cell_type": "code",
   "execution_count": 9,
   "metadata": {},
   "outputs": [],
   "source": [
    "if not os.path.exists(IMAGES_PATH):\n",
    "    if os.name == 'posix':\n",
    "        !mkdir -p {IMAGES_PATH}\n",
    "    if os.name == 'nt':\n",
    "         !mkdir {IMAGES_PATH}\n",
    "for label in labels:\n",
    "    path = os.path.join(IMAGES_PATH, label)\n",
    "    if not os.path.exists(path):\n",
    "        !mkdir {path}"
   ]
  },
  {
   "cell_type": "code",
   "execution_count": 10,
   "metadata": {},
   "outputs": [
    {
     "name": "stdout",
     "output_type": "stream",
     "text": [
      "Collecting images for yes\n",
      "Collecting image 0\n",
      "Collecting image 1\n",
      "Collecting image 2\n",
      "Collecting image 3\n",
      "Collecting image 4\n",
      "Collecting image 5\n",
      "Collecting image 6\n",
      "Collecting image 7\n",
      "Collecting image 8\n",
      "Collecting image 9\n",
      "Collecting image 10\n",
      "Collecting image 11\n",
      "Collecting image 12\n",
      "Collecting image 13\n",
      "Collecting image 14\n",
      "Collecting images for no\n",
      "Collecting image 0\n",
      "Collecting image 1\n",
      "Collecting image 2\n",
      "Collecting image 3\n",
      "Collecting image 4\n",
      "Collecting image 5\n",
      "Collecting image 6\n",
      "Collecting image 7\n",
      "Collecting image 8\n",
      "Collecting image 9\n",
      "Collecting image 10\n",
      "Collecting image 11\n",
      "Collecting image 12\n",
      "Collecting image 13\n",
      "Collecting image 14\n",
      "Collecting images for thankyou\n",
      "Collecting image 0\n",
      "Collecting image 1\n",
      "Collecting image 2\n",
      "Collecting image 3\n",
      "Collecting image 4\n",
      "Collecting image 5\n",
      "Collecting image 6\n",
      "Collecting image 7\n",
      "Collecting image 8\n",
      "Collecting image 9\n",
      "Collecting image 10\n",
      "Collecting image 11\n",
      "Collecting image 12\n",
      "Collecting image 13\n",
      "Collecting image 14\n",
      "Collecting images for present\n",
      "Collecting image 0\n",
      "Collecting image 1\n",
      "Collecting image 2\n",
      "Collecting image 3\n",
      "Collecting image 4\n",
      "Collecting image 5\n",
      "Collecting image 6\n",
      "Collecting image 7\n",
      "Collecting image 8\n",
      "Collecting image 9\n",
      "Collecting image 10\n",
      "Collecting image 11\n",
      "Collecting image 12\n",
      "Collecting image 13\n",
      "Collecting image 14\n"
     ]
    }
   ],
   "source": [
    "for label in labels:\n",
    "    cap = cv2.VideoCapture(0)\n",
    "    print('Collecting images for {}'.format(label))\n",
    "    time.sleep(5)\n",
    "    for imgnum in range(number_imgs):\n",
    "        print('Collecting image {}'.format(imgnum))\n",
    "        ret, frame = cap.read()\n",
    "        imgname = os.path.join(IMAGES_PATH,label,label+'.'+'{}.jpg'.format(str(uuid.uuid1())))\n",
    "        cv2.imwrite(imgname, frame)\n",
    "        cv2.imshow('frame', frame)\n",
    "        time.sleep(2)\n",
    "\n",
    "        if cv2.waitKey(1) & 0xFF == ord('q'):\n",
    "            break\n",
    "cap.release()\n",
    "cv2.destroyAllWindows()"
   ]
  },
  {
   "cell_type": "code",
   "execution_count": 7,
   "metadata": {},
   "outputs": [
    {
     "name": "stdout",
     "output_type": "stream",
     "text": [
      "Requirement already satisfied: pyqt5 in d:\\projects\\sign-to-speech\\tfodcourse\\tfod\\lib\\site-packages (5.15.6)\n",
      "Requirement already satisfied: lxml in d:\\projects\\sign-to-speech\\tfodcourse\\tfod\\lib\\site-packages (4.8.0)\n",
      "Requirement already satisfied: PyQt5-Qt5>=5.15.2 in d:\\projects\\sign-to-speech\\tfodcourse\\tfod\\lib\\site-packages (from pyqt5) (5.15.2)\n",
      "Requirement already satisfied: PyQt5-sip<13,>=12.8 in d:\\projects\\sign-to-speech\\tfodcourse\\tfod\\lib\\site-packages (from pyqt5) (12.10.1)\n"
     ]
    }
   ],
   "source": [
    "!pip install --upgrade pyqt5 lxml"
   ]
  },
  {
   "cell_type": "code",
   "execution_count": 2,
   "metadata": {},
   "outputs": [
    {
     "name": "stdout",
     "output_type": "stream",
     "text": [
      "Package           Version\n",
      "----------------- --------\n",
      "asttokens         2.0.5\n",
      "backcall          0.2.0\n",
      "colorama          0.4.4\n",
      "debugpy           1.6.0\n",
      "decorator         5.1.1\n",
      "entrypoints       0.4\n",
      "executing         0.8.3\n",
      "ipykernel         6.13.0\n",
      "ipython           8.2.0\n",
      "jedi              0.18.1\n",
      "jupyter-client    7.2.2\n",
      "jupyter-core      4.9.2\n",
      "lxml              4.8.0\n",
      "matplotlib-inline 0.1.3\n",
      "nest-asyncio      1.5.5\n",
      "numpy             1.22.3\n",
      "object-detection  0.1\n",
      "opencv-python     4.5.5.64\n",
      "packaging         21.3\n",
      "parso             0.8.3\n",
      "pickleshare       0.7.5\n",
      "pip               22.0.4\n",
      "prompt-toolkit    3.0.29\n",
      "psutil            5.9.0\n",
      "pure-eval         0.2.2\n",
      "Pygments          2.11.2\n",
      "pyparsing         3.0.8\n",
      "PyQt5             5.15.6\n",
      "PyQt5-Qt5         5.15.2\n",
      "PyQt5-sip         12.10.1\n",
      "python-dateutil   2.8.2\n",
      "pywin32           303\n",
      "pyzmq             22.3.0\n",
      "setuptools        58.1.0\n",
      "six               1.16.0\n",
      "stack-data        0.2.0\n",
      "tornado           6.1\n",
      "traitlets         5.1.1\n",
      "wcwidth           0.2.5\n"
     ]
    }
   ],
   "source": [
    "!pip list"
   ]
  },
  {
   "cell_type": "code",
   "execution_count": 8,
   "metadata": {},
   "outputs": [],
   "source": [
    "LABELIMG_PATH = os.path.join('Tensorflow', 'labelimg')"
   ]
  },
  {
   "cell_type": "code",
   "execution_count": 9,
   "metadata": {},
   "outputs": [
    {
     "name": "stderr",
     "output_type": "stream",
     "text": [
      "Cloning into 'Tensorflow\\labelimg'...\n"
     ]
    }
   ],
   "source": [
    "if not os.path.exists(LABELIMG_PATH):\n",
    "    !mkdir {LABELIMG_PATH}\n",
    "    !git clone https://github.com/tzutalin/labelImg {LABELIMG_PATH}"
   ]
  },
  {
   "cell_type": "code",
   "execution_count": 10,
   "metadata": {},
   "outputs": [],
   "source": [
    "if os.name == 'posix':\n",
    "    !cd {LABELIMG_PATH} && make qt5py3\n",
    "if os.name =='nt':\n",
    "    !cd {LABELIMG_PATH} && pyrcc5 -o libs/resources.py resources.qrc"
   ]
  },
  {
   "cell_type": "code",
   "execution_count": 11,
   "metadata": {},
   "outputs": [
    {
     "name": "stdout",
     "output_type": "stream",
     "text": [
      "Image:D:\\Projects\\Sign-to-speech\\TFODCourse\\Tensorflow\\workspace\\images\\collectedimages\\yes\\yes.e908d336-bca8-11ec-b649-f80dac5809d1.jpg -> Annotation:D:/Projects/Sign-to-speech/TFODCourse/Tensorflow/workspace/images/collectedimages/yes/yes.e908d336-bca8-11ec-b649-f80dac5809d1.xml\n",
      "Image:D:\\Projects\\Sign-to-speech\\TFODCourse\\Tensorflow\\workspace\\images\\collectedimages\\yes\\yes.ea3ffa24-bca8-11ec-a65c-f80dac5809d1.jpg -> Annotation:D:/Projects/Sign-to-speech/TFODCourse/Tensorflow/workspace/images/collectedimages/yes/yes.ea3ffa24-bca8-11ec-a65c-f80dac5809d1.xml\n",
      "Image:D:\\Projects\\Sign-to-speech\\TFODCourse\\Tensorflow\\workspace\\images\\collectedimages\\yes\\yes.eb778bcc-bca8-11ec-8cac-f80dac5809d1.jpg -> Annotation:D:/Projects/Sign-to-speech/TFODCourse/Tensorflow/workspace/images/collectedimages/yes/yes.eb778bcc-bca8-11ec-8cac-f80dac5809d1.xml\n",
      "Image:D:\\Projects\\Sign-to-speech\\TFODCourse\\Tensorflow\\workspace\\images\\collectedimages\\yes\\yes.ede56091-bca8-11ec-833f-f80dac5809d1.jpg -> Annotation:D:/Projects/Sign-to-speech/TFODCourse/Tensorflow/workspace/images/collectedimages/yes/yes.ede56091-bca8-11ec-833f-f80dac5809d1.xml\n",
      "Image:D:\\Projects\\Sign-to-speech\\TFODCourse\\Tensorflow\\workspace\\images\\collectedimages\\yes\\yes.ef1e186e-bca8-11ec-bcbe-f80dac5809d1.jpg -> Annotation:D:/Projects/Sign-to-speech/TFODCourse/Tensorflow/workspace/images/collectedimages/yes/yes.ef1e186e-bca8-11ec-bcbe-f80dac5809d1.xml\n",
      "Image:D:\\Projects\\Sign-to-speech\\TFODCourse\\Tensorflow\\workspace\\images\\collectedimages\\yes\\yes.f2c16860-bca8-11ec-80e3-f80dac5809d1.jpg -> Annotation:D:/Projects/Sign-to-speech/TFODCourse/Tensorflow/workspace/images/collectedimages/yes/yes.f2c16860-bca8-11ec-80e3-f80dac5809d1.xml\n",
      "Image:D:\\Projects\\Sign-to-speech\\TFODCourse\\Tensorflow\\workspace\\images\\collectedimages\\yes\\yes.f8d930e2-bca8-11ec-9895-f80dac5809d1.jpg -> Annotation:D:/Projects/Sign-to-speech/TFODCourse/Tensorflow/workspace/images/collectedimages/yes/yes.f8d930e2-bca8-11ec-9895-f80dac5809d1.xml\n",
      "Image:D:\\Projects\\Sign-to-speech\\TFODCourse\\Tensorflow\\workspace\\images\\collectedimages\\yes\\yes.f05469bb-bca8-11ec-b7f3-f80dac5809d1.jpg -> Annotation:D:/Projects/Sign-to-speech/TFODCourse/Tensorflow/workspace/images/collectedimages/yes/yes.f05469bb-bca8-11ec-b7f3-f80dac5809d1.xml\n",
      "Image:D:\\Projects\\Sign-to-speech\\TFODCourse\\Tensorflow\\workspace\\images\\collectedimages\\yes\\yes.f1891155-bca8-11ec-9f1e-f80dac5809d1.jpg -> Annotation:D:/Projects/Sign-to-speech/TFODCourse/Tensorflow/workspace/images/collectedimages/yes/yes.f1891155-bca8-11ec-9f1e-f80dac5809d1.xml\n",
      "Image:D:\\Projects\\Sign-to-speech\\TFODCourse\\Tensorflow\\workspace\\images\\collectedimages\\no\\no.0a7c1a93-bca9-11ec-91ad-f80dac5809d1.jpg -> Annotation:D:/Projects/Sign-to-speech/TFODCourse/Tensorflow/workspace/images/collectedimages/no/no.0a7c1a93-bca9-11ec-91ad-f80dac5809d1.xml\n",
      "Image:D:\\Projects\\Sign-to-speech\\TFODCourse\\Tensorflow\\workspace\\images\\collectedimages\\no\\no.00be791d-bca9-11ec-9616-f80dac5809d1.jpg -> Annotation:D:/Projects/Sign-to-speech/TFODCourse/Tensorflow/workspace/images/collectedimages/no/no.00be791d-bca9-11ec-9616-f80dac5809d1.xml\n",
      "Image:D:\\Projects\\Sign-to-speech\\TFODCourse\\Tensorflow\\workspace\\images\\collectedimages\\no\\no.0bb2d9e9-bca9-11ec-97b8-f80dac5809d1.jpg -> Annotation:D:/Projects/Sign-to-speech/TFODCourse/Tensorflow/workspace/images/collectedimages/no/no.0bb2d9e9-bca9-11ec-97b8-f80dac5809d1.xml\n",
      "Image:D:\\Projects\\Sign-to-speech\\TFODCourse\\Tensorflow\\workspace\\images\\collectedimages\\no\\no.0ceae8f5-bca9-11ec-bcc0-f80dac5809d1.jpg -> Annotation:D:/Projects/Sign-to-speech/TFODCourse/Tensorflow/workspace/images/collectedimages/no/no.0ceae8f5-bca9-11ec-bcc0-f80dac5809d1.xml\n",
      "Image:D:\\Projects\\Sign-to-speech\\TFODCourse\\Tensorflow\\workspace\\images\\collectedimages\\no\\no.0e23978a-bca9-11ec-9f95-f80dac5809d1.jpg -> Annotation:D:/Projects/Sign-to-speech/TFODCourse/Tensorflow/workspace/images/collectedimages/no/no.0e23978a-bca9-11ec-9f95-f80dac5809d1.xml\n",
      "Image:D:\\Projects\\Sign-to-speech\\TFODCourse\\Tensorflow\\workspace\\images\\collectedimages\\no\\no.01f554d0-bca9-11ec-8ee8-f80dac5809d1.jpg -> Annotation:D:/Projects/Sign-to-speech/TFODCourse/Tensorflow/workspace/images/collectedimages/no/no.01f554d0-bca9-11ec-8ee8-f80dac5809d1.xml\n",
      "Image:D:\\Projects\\Sign-to-speech\\TFODCourse\\Tensorflow\\workspace\\images\\collectedimages\\no\\no.032cbfb1-bca9-11ec-a03e-f80dac5809d1.jpg -> Annotation:D:/Projects/Sign-to-speech/TFODCourse/Tensorflow/workspace/images/collectedimages/no/no.032cbfb1-bca9-11ec-a03e-f80dac5809d1.xml\n",
      "Image:D:\\Projects\\Sign-to-speech\\TFODCourse\\Tensorflow\\workspace\\images\\collectedimages\\no\\no.080c14eb-bca9-11ec-9356-f80dac5809d1.jpg -> Annotation:D:/Projects/Sign-to-speech/TFODCourse/Tensorflow/workspace/images/collectedimages/no/no.080c14eb-bca9-11ec-9356-f80dac5809d1.xml\n",
      "Image:D:\\Projects\\Sign-to-speech\\TFODCourse\\Tensorflow\\workspace\\images\\collectedimages\\no\\no.0943cefd-bca9-11ec-95df-f80dac5809d1.jpg -> Annotation:D:/Projects/Sign-to-speech/TFODCourse/Tensorflow/workspace/images/collectedimages/no/no.0943cefd-bca9-11ec-95df-f80dac5809d1.xml\n",
      "Image:D:\\Projects\\Sign-to-speech\\TFODCourse\\Tensorflow\\workspace\\images\\collectedimages\\no\\no.04647444-bca9-11ec-92af-f80dac5809d1.jpg -> Annotation:D:/Projects/Sign-to-speech/TFODCourse/Tensorflow/workspace/images/collectedimages/no/no.04647444-bca9-11ec-92af-f80dac5809d1.xml\n",
      "Image:D:\\Projects\\Sign-to-speech\\TFODCourse\\Tensorflow\\workspace\\images\\collectedimages\\no\\no.ff88589a-bca8-11ec-8a96-f80dac5809d1.jpg -> Annotation:D:/Projects/Sign-to-speech/TFODCourse/Tensorflow/workspace/images/collectedimages/no/no.ff88589a-bca8-11ec-8a96-f80dac5809d1.xml\n",
      "Image:D:\\Projects\\Sign-to-speech\\TFODCourse\\Tensorflow\\workspace\\images\\collectedimages\\thankyou\\thankyou.1c3a8eee-bca9-11ec-b105-f80dac5809d1.jpg -> Annotation:D:/Projects/Sign-to-speech/TFODCourse/Tensorflow/workspace/images/collectedimages/thankyou/thankyou.1c3a8eee-bca9-11ec-b105-f80dac5809d1.xml\n",
      "Image:D:\\Projects\\Sign-to-speech\\TFODCourse\\Tensorflow\\workspace\\images\\collectedimages\\thankyou\\thankyou.1d70a54f-bca9-11ec-ae75-f80dac5809d1.jpg -> Annotation:D:/Projects/Sign-to-speech/TFODCourse/Tensorflow/workspace/images/collectedimages/thankyou/thankyou.1d70a54f-bca9-11ec-ae75-f80dac5809d1.xml\n",
      "Image:D:\\Projects\\Sign-to-speech\\TFODCourse\\Tensorflow\\workspace\\images\\collectedimages\\thankyou\\thankyou.1ea8e93b-bca9-11ec-9e0f-f80dac5809d1.jpg -> Annotation:D:/Projects/Sign-to-speech/TFODCourse/Tensorflow/workspace/images/collectedimages/thankyou/thankyou.1ea8e93b-bca9-11ec-9e0f-f80dac5809d1.xml\n",
      "Image:D:\\Projects\\Sign-to-speech\\TFODCourse\\Tensorflow\\workspace\\images\\collectedimages\\thankyou\\thankyou.1fde63a9-bca9-11ec-9ee7-f80dac5809d1.jpg -> Annotation:D:/Projects/Sign-to-speech/TFODCourse/Tensorflow/workspace/images/collectedimages/thankyou/thankyou.1fde63a9-bca9-11ec-9ee7-f80dac5809d1.xml\n",
      "Image:D:\\Projects\\Sign-to-speech\\TFODCourse\\Tensorflow\\workspace\\images\\collectedimages\\thankyou\\thankyou.14e37296-bca9-11ec-8e91-f80dac5809d1.jpg -> Annotation:D:/Projects/Sign-to-speech/TFODCourse/Tensorflow/workspace/images/collectedimages/thankyou/thankyou.14e37296-bca9-11ec-8e91-f80dac5809d1.xml\n",
      "Image:D:\\Projects\\Sign-to-speech\\TFODCourse\\Tensorflow\\workspace\\images\\collectedimages\\thankyou\\thankyou.25f29454-bca9-11ec-a394-f80dac5809d1.jpg -> Annotation:D:/Projects/Sign-to-speech/TFODCourse/Tensorflow/workspace/images/collectedimages/thankyou/thankyou.25f29454-bca9-11ec-a394-f80dac5809d1.xml\n",
      "Image:D:\\Projects\\Sign-to-speech\\TFODCourse\\Tensorflow\\workspace\\images\\collectedimages\\thankyou\\thankyou.224be815-bca9-11ec-bfe8-f80dac5809d1.jpg -> Annotation:D:/Projects/Sign-to-speech/TFODCourse/Tensorflow/workspace/images/collectedimages/thankyou/thankyou.224be815-bca9-11ec-bfe8-f80dac5809d1.xml\n",
      "Image:D:\\Projects\\Sign-to-speech\\TFODCourse\\Tensorflow\\workspace\\images\\collectedimages\\thankyou\\thankyou.1758e6b0-bca9-11ec-a86f-f80dac5809d1.jpg -> Annotation:D:/Projects/Sign-to-speech/TFODCourse/Tensorflow/workspace/images/collectedimages/thankyou/thankyou.1758e6b0-bca9-11ec-a86f-f80dac5809d1.xml\n",
      "Image:D:\\Projects\\Sign-to-speech\\TFODCourse\\Tensorflow\\workspace\\images\\collectedimages\\thankyou\\thankyou.16225d58-bca9-11ec-9cc5-f80dac5809d1.jpg -> Annotation:D:/Projects/Sign-to-speech/TFODCourse/Tensorflow/workspace/images/collectedimages/thankyou/thankyou.16225d58-bca9-11ec-9cc5-f80dac5809d1.xml\n",
      "Image:D:\\Projects\\Sign-to-speech\\TFODCourse\\Tensorflow\\workspace\\images\\collectedimages\\thankyou\\thankyou.189042b2-bca9-11ec-8fe3-f80dac5809d1.jpg -> Annotation:D:/Projects/Sign-to-speech/TFODCourse/Tensorflow/workspace/images/collectedimages/thankyou/thankyou.189042b2-bca9-11ec-8fe3-f80dac5809d1.xml\n",
      "Image:D:\\Projects\\Sign-to-speech\\TFODCourse\\Tensorflow\\workspace\\images\\collectedimages\\thankyou\\thankyou.2115626d-bca9-11ec-b0ca-f80dac5809d1.jpg -> Annotation:D:/Projects/Sign-to-speech/TFODCourse/Tensorflow/workspace/images/collectedimages/thankyou/thankyou.2115626d-bca9-11ec-b0ca-f80dac5809d1.xml\n",
      "Image:D:\\Projects\\Sign-to-speech\\TFODCourse\\Tensorflow\\workspace\\images\\collectedimages\\present\\present.2cb31a06-bca9-11ec-959c-f80dac5809d1.jpg -> Annotation:D:/Projects/Sign-to-speech/TFODCourse/Tensorflow/workspace/images/collectedimages/present/present.2cb31a06-bca9-11ec-959c-f80dac5809d1.xml\n",
      "Image:D:\\Projects\\Sign-to-speech\\TFODCourse\\Tensorflow\\workspace\\images\\collectedimages\\present\\present.2deaa2f4-bca9-11ec-970f-f80dac5809d1.jpg -> Annotation:D:/Projects/Sign-to-speech/TFODCourse/Tensorflow/workspace/images/collectedimages/present/present.2deaa2f4-bca9-11ec-970f-f80dac5809d1.xml\n",
      "Image:D:\\Projects\\Sign-to-speech\\TFODCourse\\Tensorflow\\workspace\\images\\collectedimages\\present\\present.3a13036d-bca9-11ec-8a31-f80dac5809d1.jpg -> Annotation:D:/Projects/Sign-to-speech/TFODCourse/Tensorflow/workspace/images/collectedimages/present/present.3a13036d-bca9-11ec-8a31-f80dac5809d1.xml\n",
      "Image:D:\\Projects\\Sign-to-speech\\TFODCourse\\Tensorflow\\workspace\\images\\collectedimages\\present\\present.3b4b96d4-bca9-11ec-8d7c-f80dac5809d1.jpg -> Annotation:D:/Projects/Sign-to-speech/TFODCourse/Tensorflow/workspace/images/collectedimages/present/present.3b4b96d4-bca9-11ec-8d7c-f80dac5809d1.xml\n",
      "Image:D:\\Projects\\Sign-to-speech\\TFODCourse\\Tensorflow\\workspace\\images\\collectedimages\\present\\present.3c82b7e8-bca9-11ec-909b-f80dac5809d1.jpg -> Annotation:D:/Projects/Sign-to-speech/TFODCourse/Tensorflow/workspace/images/collectedimages/present/present.3c82b7e8-bca9-11ec-909b-f80dac5809d1.xml\n",
      "Image:D:\\Projects\\Sign-to-speech\\TFODCourse\\Tensorflow\\workspace\\images\\collectedimages\\present\\present.32c9d95e-bca9-11ec-aa6a-f80dac5809d1.jpg -> Annotation:D:/Projects/Sign-to-speech/TFODCourse/Tensorflow/workspace/images/collectedimages/present/present.32c9d95e-bca9-11ec-aa6a-f80dac5809d1.xml\n",
      "Image:D:\\Projects\\Sign-to-speech\\TFODCourse\\Tensorflow\\workspace\\images\\collectedimages\\present\\present.33ff2a8d-bca9-11ec-ae09-f80dac5809d1.jpg -> Annotation:D:/Projects/Sign-to-speech/TFODCourse/Tensorflow/workspace/images/collectedimages/present/present.33ff2a8d-bca9-11ec-ae09-f80dac5809d1.xml\n",
      "Image:D:\\Projects\\Sign-to-speech\\TFODCourse\\Tensorflow\\workspace\\images\\collectedimages\\present\\present.37a44860-bca9-11ec-b62b-f80dac5809d1.jpg -> Annotation:D:/Projects/Sign-to-speech/TFODCourse/Tensorflow/workspace/images/collectedimages/present/present.37a44860-bca9-11ec-b62b-f80dac5809d1.xml\n",
      "Image:D:\\Projects\\Sign-to-speech\\TFODCourse\\Tensorflow\\workspace\\images\\collectedimages\\present\\present.38dcc789-bca9-11ec-9f9f-f80dac5809d1.jpg -> Annotation:D:/Projects/Sign-to-speech/TFODCourse/Tensorflow/workspace/images/collectedimages/present/present.38dcc789-bca9-11ec-9f9f-f80dac5809d1.xml\n",
      "Image:D:\\Projects\\Sign-to-speech\\TFODCourse\\Tensorflow\\workspace\\images\\collectedimages\\present\\present.3058ea9b-bca9-11ec-8a9d-f80dac5809d1.jpg -> Annotation:D:/Projects/Sign-to-speech/TFODCourse/Tensorflow/workspace/images/collectedimages/present/present.3058ea9b-bca9-11ec-8a9d-f80dac5809d1.xml\n",
      "Image:D:\\Projects\\Sign-to-speech\\TFODCourse\\Tensorflow\\workspace\\images\\collectedimages\\present\\present.3536b75e-bca9-11ec-9147-f80dac5809d1.jpg -> Annotation:D:/Projects/Sign-to-speech/TFODCourse/Tensorflow/workspace/images/collectedimages/present/present.3536b75e-bca9-11ec-9147-f80dac5809d1.xml\n",
      "Image:D:\\Projects\\Sign-to-speech\\TFODCourse\\Tensorflow\\workspace\\images\\collectedimages\\present\\present.31917679-bca9-11ec-a581-f80dac5809d1.jpg -> Annotation:D:/Projects/Sign-to-speech/TFODCourse/Tensorflow/workspace/images/collectedimages/present/present.31917679-bca9-11ec-a581-f80dac5809d1.xml\n"
     ]
    }
   ],
   "source": [
    "!cd {LABELIMG_PATH} && python labelImg.py"
   ]
  },
  {
   "cell_type": "code",
   "execution_count": 20,
   "metadata": {},
   "outputs": [],
   "source": [
    "TRAIN_PATH = os.path.join('Tensorflow', 'workspace', 'images', 'train')\n",
    "TEST_PATH = os.path.join('Tensorflow', 'workspace', 'images', 'test')\n",
    "ARCHIVE_PATH = os.path.join('Tensorflow', 'workspace', 'images', 'archive.tar.gz')"
   ]
  },
  {
   "cell_type": "code",
   "execution_count": 21,
   "metadata": {},
   "outputs": [],
   "source": [
    "!tar -czf {ARCHIVE_PATH} {TRAIN_PATH} {TEST_PATH}"
   ]
  },
  {
   "cell_type": "code",
   "execution_count": null,
   "metadata": {},
   "outputs": [],
   "source": []
  }
 ],
 "metadata": {
  "kernelspec": {
   "display_name": "tfodj",
   "language": "python",
   "name": "tfodj"
  },
  "language_info": {
   "codemirror_mode": {
    "name": "ipython",
    "version": 3
   },
   "file_extension": ".py",
   "mimetype": "text/x-python",
   "name": "python",
   "nbconvert_exporter": "python",
   "pygments_lexer": "ipython3",
   "version": "3.10.4"
  }
 },
 "nbformat": 4,
 "nbformat_minor": 2
}
